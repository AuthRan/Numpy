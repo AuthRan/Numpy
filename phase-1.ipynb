{
 "cells": [
  {
   "cell_type": "markdown",
   "id": "60ede05f",
   "metadata": {},
   "source": [
    "## Numpy array and basics\n",
    "Learn about Numpy from Chai aur Code"
   ]
  },
  {
   "cell_type": "code",
   "execution_count": 5,
   "id": "df11b675",
   "metadata": {},
   "outputs": [],
   "source": [
    "import numpy as np\n",
    "import time"
   ]
  },
  {
   "cell_type": "markdown",
   "id": "a565dd38",
   "metadata": {},
   "source": [
    "### Creating array from list"
   ]
  },
  {
   "cell_type": "code",
   "execution_count": 3,
   "id": "0e8614a5",
   "metadata": {},
   "outputs": [
    {
     "name": "stdout",
     "output_type": "stream",
     "text": [
      "Array in 1D:  [1 2 3 4]\n",
      "Array in 2D:  [[1 2 3 4]\n",
      " [5 6 7 8]]\n"
     ]
    }
   ],
   "source": [
    "array_1d = np.array([1, 2, 3, 4])\n",
    "print(\"Array in 1D: \", array_1d)\n",
    "\n",
    "array_2d = np.array([[1,2,3,4],[5,6,7,8]])\n",
    "print(\"Array in 2D: \", array_2d)\n"
   ]
  },
  {
   "cell_type": "markdown",
   "id": "227d00cc",
   "metadata": {},
   "source": [
    "### Python List vs Numpy Array"
   ]
  },
  {
   "cell_type": "code",
   "execution_count": 7,
   "id": "4710ad4e",
   "metadata": {},
   "outputs": [
    {
     "name": "stdout",
     "output_type": "stream",
     "text": [
      "Python list multiplication:  [1, 2, 3, 1, 2, 3]\n",
      "Numpy array multiplication:  [2 4 6]\n",
      "List operation time:  0.0762321949005127\n",
      "Array operation time:  0.008107423782348633\n"
     ]
    }
   ],
   "source": [
    "py_list = [1,2,3]\n",
    "print(\"Python list multiplication: \", py_list * 2)\n",
    "\n",
    "np_array = np.array([1,2,3])\n",
    "print(\"Numpy array multiplication: \", np_array * 2)\n",
    "\n",
    "\n",
    "start = time.time()\n",
    "py_list = [i*2 for i in range(1000000)]\n",
    "print(\"List operation time: \", time.time() - start)\n",
    "\n",
    "\n",
    "start = time.time()\n",
    "np_array = np.arange(1000000) * 2\n",
    "print(\"Array operation time: \", time.time() - start)"
   ]
  },
  {
   "cell_type": "markdown",
   "id": "122f08d4",
   "metadata": {},
   "source": [
    "### Creating array from scratch"
   ]
  },
  {
   "cell_type": "code",
   "execution_count": null,
   "id": "3e567849",
   "metadata": {},
   "outputs": [
    {
     "name": "stdout",
     "output_type": "stream",
     "text": [
      "Zeroes array: \n",
      " [[0. 0. 0.]\n",
      " [0. 0. 0.]\n",
      " [0. 0. 0.]]\n",
      "Ones array: \n",
      " [[1. 1. 1. 1.]\n",
      " [1. 1. 1. 1.]\n",
      " [1. 1. 1. 1.]\n",
      " [1. 1. 1. 1.]]\n",
      "Full array: \n",
      " [[9 9 9]\n",
      " [9 9 9]\n",
      " [9 9 9]]\n",
      "Random array: \n",
      " [[0.59761667 0.14815443 0.36095165 0.17677728 0.68486369]\n",
      " [0.47827491 0.06919339 0.0553459  0.20798057 0.70868069]\n",
      " [0.24631655 0.12807689 0.47845673 0.44614776 0.14753682]\n",
      " [0.23800832 0.73226583 0.63516431 0.65274994 0.05643052]\n",
      " [0.08336246 0.53849565 0.44200299 0.57724939 0.8126811 ]]\n",
      "Sequence array: \n",
      " [ 1  3  5  7  9 11 13 15 17 19]\n"
     ]
    }
   ],
   "source": [
    "zeroes = np.zeros((3,3))\n",
    "print(\"Zeroes array: \\n\", zeroes)\n",
    "\n",
    "ones = np.ones((4, 4))\n",
    "print(\"Ones array: \\n\", ones)\n",
    "\n",
    "same = np.full((3,3), 9)\n",
    "print(\"Full array: \\n\", same)\n",
    "\n",
    "random = np.random.random((5, 5))\n",
    "print(\"Random array: \\n\", random)\n",
    "\n",
    "sequence = np.arange(1, 20, 2)\n",
    "print(\"Sequence array: \\n\", sequence)"
   ]
  },
  {
   "cell_type": "markdown",
   "id": "37715a1e",
   "metadata": {},
   "source": [
    "### Vector, Matrix and Tensor"
   ]
  },
  {
   "cell_type": "code",
   "execution_count": 16,
   "id": "2113108e",
   "metadata": {},
   "outputs": [],
   "source": [
    "vector = np.array([1,2,3])\n",
    "\n",
    "matrix = np.array([[1,2,3],\n",
    "                   [4,5,6]])\n",
    "\n",
    "tensor = np.array([[[1,2], [3,4],\n",
    "                    [5,6], [7,8]]])"
   ]
  },
  {
   "cell_type": "markdown",
   "id": "13e617d2",
   "metadata": {},
   "source": [
    "### Array Properties"
   ]
  },
  {
   "cell_type": "code",
   "execution_count": 17,
   "id": "e3572994",
   "metadata": {},
   "outputs": [
    {
     "name": "stdout",
     "output_type": "stream",
     "text": [
      "Size:  6\n",
      "Shape:  (2, 3)\n",
      "Dimention:  2\n",
      "DType:  int64\n"
     ]
    }
   ],
   "source": [
    "arr = np.array([[1,2,3],\n",
    "                [4,5,6]])\n",
    "print(\"Size: \", arr.size)\n",
    "print(\"Shape: \", arr.shape)\n",
    "print(\"Dimention: \", arr.ndim)\n",
    "print(\"DType: \", arr.dtype)"
   ]
  },
  {
   "cell_type": "markdown",
   "id": "0e2dc039",
   "metadata": {},
   "source": [
    "### Array Reshaping"
   ]
  },
  {
   "cell_type": "code",
   "execution_count": 24,
   "id": "cf50fee4",
   "metadata": {},
   "outputs": [
    {
     "name": "stdout",
     "output_type": "stream",
     "text": [
      "Orignal Array: \n",
      " [ 0  1  2  3  4  5  6  7  8  9 10 11]\n",
      "Reshape Array: \n",
      " [[ 0  1  2  3]\n",
      " [ 4  5  6  7]\n",
      " [ 8  9 10 11]]\n",
      "Flattened Array: \n",
      " [ 0  1  2  3  4  5  6  7  8  9 10 11]\n",
      "Ravel Array: \n",
      " [ 0  1  2  3  4  5  6  7  8  9 10 11]\n",
      "Transpose Array: \n",
      " [[ 0  4  8]\n",
      " [ 1  5  9]\n",
      " [ 2  6 10]\n",
      " [ 3  7 11]]\n"
     ]
    }
   ],
   "source": [
    "arr = np.arange(12)\n",
    "print(\"Orignal Array: \\n\", arr)\n",
    "\n",
    "reshape = arr.reshape((3,4))\n",
    "print(\"Reshape Array: \\n\", reshape)\n",
    "\n",
    "flatten = reshape.flatten()\n",
    "print(\"Flattened Array: \\n\", flatten)\n",
    "\n",
    "# Ravel returns view instead of copy\n",
    "ravel = reshape.ravel()\n",
    "print(\"Ravel Array: \\n\", ravel)\n",
    "\n",
    "transpose = reshape.T\n",
    "print(\"Transpose Array: \\n\", transpose)\n",
    "\n",
    "\n"
   ]
  }
 ],
 "metadata": {
  "kernelspec": {
   "display_name": "myenv",
   "language": "python",
   "name": "python3"
  },
  "language_info": {
   "codemirror_mode": {
    "name": "ipython",
    "version": 3
   },
   "file_extension": ".py",
   "mimetype": "text/x-python",
   "name": "python",
   "nbconvert_exporter": "python",
   "pygments_lexer": "ipython3",
   "version": "3.13.5"
  }
 },
 "nbformat": 4,
 "nbformat_minor": 5
}
