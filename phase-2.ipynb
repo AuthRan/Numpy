{
 "cells": [
  {
   "cell_type": "markdown",
   "id": "b6d0683e",
   "metadata": {},
   "source": [
    "## Numpy and Array Operations"
   ]
  },
  {
   "cell_type": "code",
   "execution_count": 1,
   "id": "e9acc4f2",
   "metadata": {},
   "outputs": [],
   "source": [
    "import numpy as np"
   ]
  },
  {
   "cell_type": "code",
   "execution_count": 8,
   "id": "f1302df2",
   "metadata": {},
   "outputs": [
    {
     "name": "stdout",
     "output_type": "stream",
     "text": [
      "Basic slicing:  [2 3 4 5]\n",
      "Step slicing:  [2 4 6]\n",
      "Negative index:  7\n"
     ]
    }
   ],
   "source": [
    "arr = np.array([1,2,3,4,5,6,7,8,9])\n",
    "print(\"Basic slicing: \", arr[1:5])\n",
    "print(\"Step slicing: \", arr[1:6:2])\n",
    "print(\"Negative index: \", arr[-3])"
   ]
  },
  {
   "cell_type": "code",
   "execution_count": 12,
   "id": "377a9cd5",
   "metadata": {},
   "outputs": [
    {
     "name": "stdout",
     "output_type": "stream",
     "text": [
      "Specific Element:  5\n",
      "Entire Row:  [4 5 6]\n",
      "Entire Column:  [2 5 8]\n"
     ]
    }
   ],
   "source": [
    "arr_2d = np.array([[1,2,3],\n",
    "                   [4,5,6],\n",
    "                   [7,8,9]])\n",
    "print(\"Specific Element: \", arr_2d[1,1])\n",
    "print(\"Entire Row: \", arr_2d[1])\n",
    "print(\"Entire Column: \", arr_2d[:,1])"
   ]
  },
  {
   "cell_type": "markdown",
   "id": "60c21bf8",
   "metadata": {},
   "source": [
    "### Sorting"
   ]
  },
  {
   "cell_type": "code",
   "execution_count": 19,
   "id": "eb872fa3",
   "metadata": {},
   "outputs": [
    {
     "name": "stdout",
     "output_type": "stream",
     "text": [
      "Sorted 1D array:  [0 1 3 5 7 8 8]\n",
      "Sorted 2D array:\n",
      "  [[ 1  2  5]\n",
      " [ 3  6  9]\n",
      " [ 3  4 11]]\n"
     ]
    }
   ],
   "source": [
    "arr = np.array([5,8,3,1,7,8,0])\n",
    "print(\"Sorted 1D array: \", np.sort(arr))\n",
    "\n",
    "arr_2d = np.array([[2,5,1],\n",
    "                   [6,3,9],\n",
    "                   [11,4,3]])\n",
    "print(\"Sorted 2D array:\\n \", np.sort(arr_2d, axis=1))\n",
    "\n",
    "# Axis = 1 means each row independent hai and sort in that order like [2,5,1] -> [1,2,5]\n",
    "# Axis = 0 means each column independent hai and sort in that order like if column [5,3,4] -> [3,4,5]\n"
   ]
  },
  {
   "cell_type": "markdown",
   "id": "008cacfd",
   "metadata": {},
   "source": [
    "### Filter"
   ]
  },
  {
   "cell_type": "code",
   "execution_count": null,
   "id": "fc5f6cf9",
   "metadata": {},
   "outputs": [
    {
     "name": "stdout",
     "output_type": "stream",
     "text": [
      "Even numbers:  [2 4 6 8]\n"
     ]
    }
   ],
   "source": [
    "numbers = np.array([1,2,3,4,5,6,7,8,9])\n",
    "even_numbers = numbers[numbers % 2 == 0]    # inside [ ] is mask -> evaluated expression\n",
    "print(\"Even numbers: \", even_numbers)"
   ]
  },
  {
   "cell_type": "markdown",
   "id": "59db1c35",
   "metadata": {},
   "source": [
    "### Filter with Mask\n"
   ]
  },
  {
   "cell_type": "code",
   "execution_count": 22,
   "id": "3cf4f99f",
   "metadata": {},
   "outputs": [
    {
     "name": "stdout",
     "output_type": "stream",
     "text": [
      "Numbers greater than 5:  [6 7 8 9]\n"
     ]
    }
   ],
   "source": [
    "# Mask is nothing but evaluated expression that you can put in array !\n",
    "mask = numbers > 5\n",
    "print(\"Numbers greater than 5: \", numbers[mask])"
   ]
  },
  {
   "cell_type": "markdown",
   "id": "5862dd16",
   "metadata": {},
   "source": [
    "### Fancy Indexing and np.where()"
   ]
  },
  {
   "cell_type": "code",
   "execution_count": 26,
   "id": "6d0ecd96",
   "metadata": {},
   "outputs": [
    {
     "name": "stdout",
     "output_type": "stream",
     "text": [
      "Indexes at fancy positions:  [3 5 7]\n",
      "Numbers greater than 5:  [6 7 8 9]\n",
      "Conditional array:  [ 1  2  3  4  5 24 28 32 36]\n"
     ]
    }
   ],
   "source": [
    "fancy_index = [2,4,6]\n",
    "print(\"Indexes at fancy positions: \", numbers[fancy_index])\n",
    "\n",
    "where_clause = np.where(numbers > 5)        # This is same as using mask !\n",
    "print(\"Numbers greater than 5: \", numbers[where_clause])\n",
    "\n",
    "\n",
    "# Another very common use case of where clause\n",
    "condition_array = np.where(numbers > 5, numbers*4, numbers)\n",
    "print(\"Conditional array: \", condition_array)\n",
    "\n",
    "# Think of this like this if ( numbers > 5 ){numbers *4} else {numbers}"
   ]
  },
  {
   "cell_type": "markdown",
   "id": "d5578ffd",
   "metadata": {},
   "source": [
    "### Adding and Removing Data"
   ]
  },
  {
   "cell_type": "code",
   "execution_count": 29,
   "id": "1600da1a",
   "metadata": {},
   "outputs": [
    {
     "name": "stdout",
     "output_type": "stream",
     "text": [
      "Addition of both arrays:  [5 7 9]\n",
      "Comibining both arrays:  [1 2 3 4 5 6]\n"
     ]
    }
   ],
   "source": [
    "arr1 = np.array([1,2,3])\n",
    "arr2 = np.array([4,5,6])\n",
    "\n",
    "addition = arr1 + arr2\n",
    "print(\"Addition of both arrays: \", addition)  # Adds two arrays \n",
    "\n",
    "combine = np.concatenate((arr1, arr2))\n",
    "print(\"Comibining both arrays: \",combine)"
   ]
  },
  {
   "cell_type": "markdown",
   "id": "ee38ac22",
   "metadata": {},
   "source": [
    "### Array Compatibility (Imp for addition and multiplication)"
   ]
  },
  {
   "cell_type": "code",
   "execution_count": 31,
   "id": "2ea55046",
   "metadata": {},
   "outputs": [
    {
     "name": "stdout",
     "output_type": "stream",
     "text": [
      "Are they compatible :  True\n",
      "Are they compatible :  False\n"
     ]
    }
   ],
   "source": [
    "# If you want to check for shape\n",
    "a = np.array([1,2,3])\n",
    "b = np.array([4,5,6])\n",
    "c = np.array([4,5,6,7])\n",
    "\n",
    "\n",
    "print(\"Are they compatible : \", a.shape == b.shape)\n",
    "print(\"Are they compatible : \", a.shape == c.shape)"
   ]
  },
  {
   "cell_type": "markdown",
   "id": "3ce6dc20",
   "metadata": {},
   "source": [
    "### Row/Column Add Karna "
   ]
  },
  {
   "cell_type": "code",
   "execution_count": 40,
   "id": "0b6f71e7",
   "metadata": {},
   "outputs": [
    {
     "name": "stdout",
     "output_type": "stream",
     "text": [
      "[[1 2]\n",
      " [3 4]]\n",
      "[[1 2]\n",
      " [3 4]\n",
      " [6 7]]\n",
      "[[1 2]\n",
      " [3 4]]\n",
      "[[1 2 8]\n",
      " [3 4 9]]\n"
     ]
    }
   ],
   "source": [
    "a1 = np.array([[1,2],[3,4]])\n",
    "a2 = np.array([6,7])\n",
    "new_array = np.vstack((a1,a2))   # Yeh thora confusing hai vstack means vertical but adds a row\n",
    "print(a1)\n",
    "print(new_array)\n",
    "\n",
    "a3 = np.array([[8], [9]])\n",
    "new_array2 = np.hstack((a1,a3))\n",
    "print(a1)\n",
    "print(new_array2)"
   ]
  },
  {
   "cell_type": "markdown",
   "id": "2f57b47d",
   "metadata": {},
   "source": [
    "### Deletion in Array "
   ]
  },
  {
   "cell_type": "code",
   "execution_count": 42,
   "id": "a49be870",
   "metadata": {},
   "outputs": [
    {
     "name": "stdout",
     "output_type": "stream",
     "text": [
      "[1 2 3 4 5]\n"
     ]
    }
   ],
   "source": [
    "test_array = np.array([1,2,3,4,5,5,6])\n",
    "deleted_array = np.delete(test_array, [4, 6])\n",
    "print(deleted_array)"
   ]
  },
  {
   "cell_type": "code",
   "execution_count": null,
   "id": "46cf24e9",
   "metadata": {},
   "outputs": [],
   "source": []
  }
 ],
 "metadata": {
  "kernelspec": {
   "display_name": "myenv",
   "language": "python",
   "name": "python3"
  },
  "language_info": {
   "codemirror_mode": {
    "name": "ipython",
    "version": 3
   },
   "file_extension": ".py",
   "mimetype": "text/x-python",
   "name": "python",
   "nbconvert_exporter": "python",
   "pygments_lexer": "ipython3",
   "version": "3.13.5"
  }
 },
 "nbformat": 4,
 "nbformat_minor": 5
}
